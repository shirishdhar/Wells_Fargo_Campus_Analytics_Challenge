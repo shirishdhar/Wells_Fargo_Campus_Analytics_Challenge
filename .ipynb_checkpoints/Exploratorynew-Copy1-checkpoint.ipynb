{
 "cells": [
  {
   "cell_type": "code",
   "execution_count": null,
   "metadata": {
    "collapsed": true
   },
   "outputs": [],
   "source": [
    "from random import randint\n",
    "import numpy as np\n",
    "from scipy.stats import pearsonr\n",
    "import pandas as pd\n",
    "from sklearn.ensemble import RandomForestClassifier \n",
    "from sklearn.svm import SVC"
   ]
  },
  {
   "cell_type": "markdown",
   "metadata": {},
   "source": [
    "## Pre-processing"
   ]
  },
  {
   "cell_type": "code",
   "execution_count": null,
   "metadata": {
    "collapsed": false
   },
   "outputs": [],
   "source": [
    "df = pd.ExcelFile('Campus+Challenge+-+Data+and+Metadata.xlsx')\n",
    "df"
   ]
  },
  {
   "cell_type": "code",
   "execution_count": null,
   "metadata": {
    "collapsed": false,
    "scrolled": true
   },
   "outputs": [],
   "source": [
    "dataframe = df.parse('Data')\n",
    "dataframe"
   ]
  },
  {
   "cell_type": "markdown",
   "metadata": {
    "collapsed": true
   },
   "source": [
    "Each cust_num has data for 12 months - month 1 to month 12. So, 10000 unique customers, and total rows = 12 x 10000 = 120000"
   ]
  },
  {
   "cell_type": "code",
   "execution_count": null,
   "metadata": {
    "collapsed": false
   },
   "outputs": [],
   "source": [
    "#Scoping out the dataset\n",
    "print('Min month:',dataframe.month.min(),' Max month:',dataframe.month.max())\n",
    "print('Min balance:',dataframe.normal_tot_bal.min(),'Max balance:',dataframe.normal_tot_bal.max())"
   ]
  },
  {
   "cell_type": "code",
   "execution_count": null,
   "metadata": {
    "collapsed": false,
    "scrolled": true
   },
   "outputs": [],
   "source": [
    "# Sort by cust_num, month. This will help us in looking for patterns\n",
    "sorted_dataframe = dataframe.sort_values(by=['cust_num','month'],ascending=True)\n",
    "sorted_dataframe = sorted_dataframe.reset_index()\n",
    "sorted_dataframe.drop('index',1)"
   ]
  },
  {
   "cell_type": "markdown",
   "metadata": {},
   "source": [
    "# Run prediction models on entire dataset"
   ]
  },
  {
   "cell_type": "code",
   "execution_count": 61,
   "metadata": {
    "collapsed": false
   },
   "outputs": [],
   "source": [
    "#Read Balance subset data\n",
    "balance_subset = pd.read_csv('balance_subset.csv')\n",
    "change_dataframe = balance_subset[['cust_num','change_1','change_2','change_3','change_4','change_5','change_6','change_7','change_8',\n",
    "               'change_9','change_10','change_11']]"
   ]
  },
  {
   "cell_type": "code",
   "execution_count": null,
   "metadata": {
    "collapsed": false
   },
   "outputs": [],
   "source": [
    "sorted_dataframe['normal_tot_bal'][0]\n"
   ]
  },
  {
   "cell_type": "code",
   "execution_count": null,
   "metadata": {
    "collapsed": false
   },
   "outputs": [],
   "source": [
    "pd.DataFrame(sorted_dataframe, columns=['cust_num','normal_tot_bal'])"
   ]
  },
  {
   "cell_type": "code",
   "execution_count": null,
   "metadata": {
    "collapsed": false
   },
   "outputs": [],
   "source": [
    "sorted_dataframe['change']=0.0"
   ]
  },
  {
   "cell_type": "markdown",
   "metadata": {},
   "source": [
    "###### Creating the 'change' column that tracks changes in total balance"
   ]
  },
  {
   "cell_type": "code",
   "execution_count": null,
   "metadata": {
    "collapsed": false
   },
   "outputs": [],
   "source": [
    "list_ = []\n",
    "for i in range(len(sorted_dataframe)):\n",
    "    if sorted_dataframe['month'][i]==12:\n",
    "        list_.append(0.0)\n",
    "        \n",
    "    else:\n",
    "        list_.append(sorted_dataframe['normal_tot_bal'][i+1]-sorted_dataframe['normal_tot_bal'][i])"
   ]
  },
  {
   "cell_type": "code",
   "execution_count": null,
   "metadata": {
    "collapsed": false
   },
   "outputs": [],
   "source": [
    "sorted_dataframe['change'] = pd.Series(list_)"
   ]
  },
  {
   "cell_type": "code",
   "execution_count": null,
   "metadata": {
    "collapsed": false
   },
   "outputs": [],
   "source": [
    "pd.DataFrame(sorted_dataframe, columns=['cust_num','normal_tot_bal','change'])"
   ]
  },
  {
   "cell_type": "markdown",
   "metadata": {},
   "source": [
    "###### Discretising the 'change' column to give 1 for an increase and 0 for a decrease"
   ]
  },
  {
   "cell_type": "code",
   "execution_count": null,
   "metadata": {
    "collapsed": true
   },
   "outputs": [],
   "source": [
    "# sorted_dataframe['step_balance'] = 0\n",
    "step_list = []\n",
    "for i in range(len(sorted_dataframe)):\n",
    "    if sorted_dataframe['change'][i] > 0:\n",
    "        step_list.append(1)\n",
    "    else:\n",
    "        step_list.append(0)\n",
    "sorted_dataframe['step_balance'] = pd.Series(step_list)        "
   ]
  },
  {
   "cell_type": "code",
   "execution_count": null,
   "metadata": {
    "collapsed": false
   },
   "outputs": [],
   "source": [
    "np.random.seed(0)\n",
    "size=120000\n",
    "x = np.random.normal(0,10000, size)\n",
    "sorted_dataframe['random']=pd.Series(x)"
   ]
  },
  {
   "cell_type": "markdown",
   "metadata": {},
   "source": [
    "### Working with the \"customer_demographic_ai = 1, customer_demographic_aii = 1\" sub-dataset"
   ]
  },
  {
   "cell_type": "code",
   "execution_count": null,
   "metadata": {
    "collapsed": false
   },
   "outputs": [],
   "source": [
    "dataframe = pd.read_csv('1_1.csv')"
   ]
  },
  {
   "cell_type": "markdown",
   "metadata": {},
   "source": [
    "###### Locating the features most correlated with the output for this sub-dataset, using the Pearson Coefficient method"
   ]
  },
  {
   "cell_type": "code",
   "execution_count": null,
   "metadata": {
    "collapsed": false
   },
   "outputs": [],
   "source": [
    "for i in dataframe.columns:\n",
    "    corr = pearsonr(dataframe[i], dataframe['step_balance'])\n",
    "    print(\"Correlation\" + \" \" + i + \"=\" + str(corr))"
   ]
  },
  {
   "cell_type": "markdown",
   "metadata": {},
   "source": [
    "#### Once we locate the top 5-10 features, we utilize training algorithms like Random Forest, Recurrent Neural Networks and SVM to train a model with the said features. We found that Random Forest gives us the best prediction accuracies, and thus focussed on this method."
   ]
  },
  {
   "cell_type": "code",
   "execution_count": 62,
   "metadata": {
    "collapsed": false
   },
   "outputs": [],
   "source": [
    "#We use a training set, a dev set to test it on, and then a final test set. This helps reduce biases.\n",
    "unique_cust_num = dataframe.cust_num.unique()\n",
    "np.random.shuffle(unique_cust_num)\n",
    "train,dev,test = unique_cust_num[:7000],unique_cust_num[7000:7400],unique_cust_num[7400:7715]\n",
    " \n",
    "growth_train = dataframe[dataframe['cust_num'].isin(train)]\n",
    "growth_dev = dataframe[dataframe['cust_num'].isin(dev)]\n",
    "growth_test = dataframe[dataframe['cust_num'].isin(test)]"
   ]
  },
  {
   "cell_type": "code",
   "execution_count": null,
   "metadata": {
    "collapsed": false
   },
   "outputs": [],
   "source": [
    "train_X = growth_train[['wf_outreach_flag_chan_ii','typeF_flag','cust_outreach_avi','wf_outreach_flag_chan_i','cust_outreach_ai','cust_outreach_av','cust_outreach_aii','wf_outreach_flag_chan_iv']]"
   ]
  },
  {
   "cell_type": "code",
   "execution_count": null,
   "metadata": {
    "collapsed": false
   },
   "outputs": [],
   "source": [
    "test_X = growth_train['step_balance']"
   ]
  },
  {
   "cell_type": "code",
   "execution_count": null,
   "metadata": {
    "collapsed": true
   },
   "outputs": [],
   "source": [
    "train_Y = growth_dev[['wf_outreach_flag_chan_ii','typeF_flag','cust_outreach_avi','wf_outreach_flag_chan_i','cust_outreach_aiii','cust_outreach_ai','cust_outreach_av','cust_outreach_aii','wf_outreach_flag_chan_iv']]\n",
    "test_Y  = growth_dev['step_balance']"
   ]
  },
  {
   "cell_type": "code",
   "execution_count": null,
   "metadata": {
    "collapsed": false
   },
   "outputs": [],
   "source": [
    "train_Y = growth_test[['cust_outreach_avi','cust_outreach_aiv','cust_outreach_aii','cust_outreach_ai','typeA_ct','typeA_bal_cat','wf_outreach_flag_chan_ii','typeF_flag']]\n",
    "test_Y  = growth_test['step_balance']"
   ]
  },
  {
   "cell_type": "code",
   "execution_count": null,
   "metadata": {
    "collapsed": false
   },
   "outputs": [],
   "source": [
    "forest = RandomForestClassifier(n_estimators = 100)\n",
    "\n",
    "# Fit the training data to the Survived labels and create the decision trees\n",
    "forest = forest.fit(train_X,test_X)\n",
    "\n",
    "# Take the same decision trees and run it on the test data\n",
    "#output = forest.predict(train_Y)\n",
    "forest.score(train_Y, test_Y)"
   ]
  },
  {
   "cell_type": "code",
   "execution_count": null,
   "metadata": {
    "collapsed": false
   },
   "outputs": [],
   "source": [
    "growth_train['cust_outreach_avi']"
   ]
  },
  {
   "cell_type": "code",
   "execution_count": null,
   "metadata": {
    "collapsed": false
   },
   "outputs": [],
   "source": [
    "clf = SVC(kernel='rbf')\n",
    "clf.fit(train_X,test_X)\n",
    "clf.score(train_Y, test_Y)"
   ]
  },
  {
   "cell_type": "code",
   "execution_count": null,
   "metadata": {
    "collapsed": false
   },
   "outputs": [],
   "source": [
    "clf1 = SVC(kernel='linear')\n",
    "clf1.fit(train_X,test_X)\n",
    "clf1.score(train_Y, test_Y)"
   ]
  },
  {
   "cell_type": "markdown",
   "metadata": {},
   "source": [
    "## Generate new feature: balance_change"
   ]
  },
  {
   "cell_type": "code",
   "execution_count": null,
   "metadata": {
    "collapsed": false,
    "scrolled": true
   },
   "outputs": [],
   "source": [
    "bal_changedf = dataframe.groupby(['cust_num','month']).size()\n",
    "bal_changedf.unstack('month')"
   ]
  },
  {
   "cell_type": "markdown",
   "metadata": {},
   "source": [
    "## What drives growth in accounts and/or balance between month 0 and month 12?"
   ]
  },
  {
   "cell_type": "code",
   "execution_count": null,
   "metadata": {
    "collapsed": true
   },
   "outputs": [],
   "source": [
    "balances = dataframe[['cust_num','month','normal_tot_bal']]"
   ]
  },
  {
   "cell_type": "code",
   "execution_count": null,
   "metadata": {
    "collapsed": false
   },
   "outputs": [],
   "source": [
    "import matplotlib.pyplot as plt\n",
    "%matplotlib inline\n",
    "plt.plot(sorted_dataframe[['month']],sorted_dataframe[['change']])\n",
    "plt.show()"
   ]
  },
  {
   "cell_type": "code",
   "execution_count": null,
   "metadata": {
    "collapsed": false,
    "scrolled": true
   },
   "outputs": [],
   "source": [
    "X = balances[balances['month'] == 12][['normal_tot_bal']]\n",
    "X"
   ]
  },
  {
   "cell_type": "markdown",
   "metadata": {},
   "source": [
    "## k-means cluster to find similar user groups"
   ]
  },
  {
   "cell_type": "code",
   "execution_count": null,
   "metadata": {
    "collapsed": false
   },
   "outputs": [],
   "source": [
    "from sklearn.cluster import MiniBatchKMeans, KMeans, DBSCAN\n",
    "n = 3\n",
    "## initialize with K-means++, a good way of speeding up convergence\n",
    "k_means = KMeans(init='k-means++', n_clusters=n, n_init=5)\n",
    "## record the current time\n",
    "# t_km = time.time()\n",
    "# start clustering!\n",
    "k_means.fit(X)\n",
    "k_means_cluster_centers = k_means.cluster_centers_\n",
    "k_means_labels = k_means.labels_\n",
    "## get the time to finish clustering\n",
    "# t_fin_km = time.time() - t_km"
   ]
  },
  {
   "cell_type": "code",
   "execution_count": null,
   "metadata": {
    "collapsed": false
   },
   "outputs": [],
   "source": [
    "print('Cluster centers',k_means_cluster_centers)\n",
    "print(np.unique(k_means_labels))"
   ]
  },
  {
   "cell_type": "markdown",
   "metadata": {},
   "source": [
    "#### Dataset split: 60 train, 20 dev, 20 test"
   ]
  },
  {
   "cell_type": "code",
   "execution_count": null,
   "metadata": {
    "collapsed": true
   },
   "outputs": [],
   "source": [
    "# train = dataframe.sample(frac=0.6)\n",
    "# dev = dataframe.drop(train.index).sample(frac=0.5)\n",
    "# test = dataframe.drop(train.index).drop(dev.index)"
   ]
  },
  {
   "cell_type": "markdown",
   "metadata": {},
   "source": [
    "*Since each customer's 12 month records would count as one record in this case, we need to split dataset by unique cust_num. This ensures each customer's data stays in one dataset, and doesn't spill to different datasets.*"
   ]
  },
  {
   "cell_type": "markdown",
   "metadata": {},
   "source": [
    "#### Derive balance delta between month 0 and month 12"
   ]
  },
  {
   "cell_type": "code",
   "execution_count": null,
   "metadata": {
    "collapsed": true
   },
   "outputs": [],
   "source": [
    "dataframe[['balance_delta']] = dataframe[['normal_tot_bal']] "
   ]
  },
  {
   "cell_type": "code",
   "execution_count": null,
   "metadata": {
    "collapsed": false
   },
   "outputs": [],
   "source": [
    "growth_trainsplit = dataframe.cust_num.sample(frac=0.6)\n",
    "growth_train = dataframe[dataframe['cust_num'].isin(growth_trainsplit)]\n",
    "growth_devsplit = dataframe.cust_num.drop(growth_trainsplit.index).sample(frac=0.5)\n",
    "growth_dev = dataframe[dataframe['cust_num'].isin(growth_devsplit)]\n",
    "growth_testsplit = dataframe.cust_num.drop(growth_trainsplit.index).drop(growth_devsplit.index)\n",
    "growth_test = dataframe[dataframe['cust_num'].isin(growth_testsplit)]"
   ]
  },
  {
   "cell_type": "code",
   "execution_count": null,
   "metadata": {
    "collapsed": false,
    "scrolled": true
   },
   "outputs": [],
   "source": [
    "growth_dev[['cust_num','month','normal_tot_bal']]"
   ]
  },
  {
   "cell_type": "code",
   "execution_count": null,
   "metadata": {
    "collapsed": true
   },
   "outputs": [],
   "source": [
    "sorted_dataframe.to_csv('clean_data1.csv')"
   ]
  },
  {
   "cell_type": "code",
   "execution_count": null,
   "metadata": {
    "collapsed": false
   },
   "outputs": [],
   "source": [
    "pwd"
   ]
  },
  {
   "cell_type": "code",
   "execution_count": null,
   "metadata": {
    "collapsed": true
   },
   "outputs": [],
   "source": []
  }
 ],
 "metadata": {
  "anaconda-cloud": {},
  "kernelspec": {
   "display_name": "Python [Root]",
   "language": "python",
   "name": "Python [Root]"
  },
  "language_info": {
   "codemirror_mode": {
    "name": "ipython",
    "version": 3
   },
   "file_extension": ".py",
   "mimetype": "text/x-python",
   "name": "python",
   "nbconvert_exporter": "python",
   "pygments_lexer": "ipython3",
   "version": "3.5.2"
  }
 },
 "nbformat": 4,
 "nbformat_minor": 0
}

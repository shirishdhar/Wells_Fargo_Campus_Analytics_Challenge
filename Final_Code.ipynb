{
 "cells": [
  {
   "cell_type": "code",
   "execution_count": 2,
   "metadata": {
    "collapsed": true
   },
   "outputs": [],
   "source": [
    "from random import randint\n",
    "import numpy as np\n",
    "from scipy.stats import pearsonr\n",
    "import pandas as pd\n",
    "from sklearn.ensemble import RandomForestClassifier \n",
    "from sklearn.svm import SVC\n",
    "import sklearn"
   ]
  },
  {
   "cell_type": "markdown",
   "metadata": {},
   "source": [
    "## Pre-processing"
   ]
  },
  {
   "cell_type": "code",
   "execution_count": null,
   "metadata": {
    "collapsed": false
   },
   "outputs": [],
   "source": [
    "df = pd.ExcelFile('Campus+Challenge+-+Data+and+Metadata.xlsx')\n",
    "df"
   ]
  },
  {
   "cell_type": "code",
   "execution_count": null,
   "metadata": {
    "collapsed": false,
    "scrolled": true
   },
   "outputs": [],
   "source": [
    "dataframe = df.parse('Data')\n",
    "dataframe"
   ]
  },
  {
   "cell_type": "markdown",
   "metadata": {
    "collapsed": true
   },
   "source": [
    "Each cust_num has data for 12 months - month 1 to month 12. So, 10000 unique customers, and total rows = 12 x 10000 = 120000"
   ]
  },
  {
   "cell_type": "code",
   "execution_count": null,
   "metadata": {
    "collapsed": false
   },
   "outputs": [],
   "source": [
    "#Scoping out the dataset\n",
    "print('Min month:',dataframe.month.min(),' Max month:',dataframe.month.max())\n",
    "print('Min balance:',dataframe.normal_tot_bal.min(),'Max balance:',dataframe.normal_tot_bal.max())"
   ]
  },
  {
   "cell_type": "code",
   "execution_count": null,
   "metadata": {
    "collapsed": false,
    "scrolled": true
   },
   "outputs": [],
   "source": [
    "# Sort by cust_num, month. This will help us in looking for patterns\n",
    "sorted_dataframe = dataframe.sort_values(by=['cust_num','month'],ascending=True)\n",
    "sorted_dataframe = sorted_dataframe.reset_index()\n",
    "sorted_dataframe.drop('index',1)"
   ]
  },
  {
   "cell_type": "markdown",
   "metadata": {},
   "source": [
    "###### Creating the 'change' column that tracks changes in total balance"
   ]
  },
  {
   "cell_type": "code",
   "execution_count": null,
   "metadata": {
    "collapsed": false
   },
   "outputs": [],
   "source": [
    "#Read Balance subset data as first step towards creating the new 'change' column\n",
    "balance_subset = pd.read_csv('balance_subset.csv')\n",
    "change_dataframe = balance_subset[['cust_num','change_1','change_2','change_3','change_4','change_5','change_6','change_7','change_8',\n",
    "               'change_9','change_10','change_11']]"
   ]
  },
  {
   "cell_type": "code",
   "execution_count": null,
   "metadata": {
    "collapsed": false
   },
   "outputs": [],
   "source": [
    "pd.DataFrame(sorted_dataframe, columns=['cust_num','normal_tot_bal'])"
   ]
  },
  {
   "cell_type": "code",
   "execution_count": null,
   "metadata": {
    "collapsed": false
   },
   "outputs": [],
   "source": [
    "sorted_dataframe['change']=0.0"
   ]
  },
  {
   "cell_type": "code",
   "execution_count": null,
   "metadata": {
    "collapsed": false
   },
   "outputs": [],
   "source": [
    "list_ = []\n",
    "for i in range(len(sorted_dataframe)):\n",
    "    if sorted_dataframe['month'][i]==12:\n",
    "        list_.append(0.0)\n",
    "        \n",
    "    else:\n",
    "        list_.append(sorted_dataframe['normal_tot_bal'][i+1]-sorted_dataframe['normal_tot_bal'][i])"
   ]
  },
  {
   "cell_type": "code",
   "execution_count": null,
   "metadata": {
    "collapsed": false
   },
   "outputs": [],
   "source": [
    "sorted_dataframe['change'] = pd.Series(list_)"
   ]
  },
  {
   "cell_type": "code",
   "execution_count": null,
   "metadata": {
    "collapsed": false
   },
   "outputs": [],
   "source": [
    "pd.DataFrame(sorted_dataframe, columns=['cust_num','normal_tot_bal','change'])"
   ]
  },
  {
   "cell_type": "markdown",
   "metadata": {},
   "source": [
    "###### Discretising the 'change' column to give 1 for an increase and 0 for a decrease"
   ]
  },
  {
   "cell_type": "code",
   "execution_count": null,
   "metadata": {
    "collapsed": true
   },
   "outputs": [],
   "source": [
    "# sorted_dataframe['step_balance'] = 0\n",
    "step_list = []\n",
    "for i in range(len(sorted_dataframe)):\n",
    "    if sorted_dataframe['change'][i] > 0:\n",
    "        step_list.append(1)\n",
    "    else:\n",
    "        step_list.append(0)\n",
    "sorted_dataframe['step_balance'] = pd.Series(step_list)        "
   ]
  },
  {
   "cell_type": "code",
   "execution_count": null,
   "metadata": {
    "collapsed": false
   },
   "outputs": [],
   "source": [
    "np.random.seed(0)\n",
    "size=120000\n",
    "x = np.random.normal(0,10000, size)\n",
    "sorted_dataframe['random']=pd.Series(x)"
   ]
  },
  {
   "cell_type": "markdown",
   "metadata": {},
   "source": [
    "# Run prediction models on entire dataset"
   ]
  },
  {
   "cell_type": "code",
   "execution_count": 5,
   "metadata": {
    "collapsed": false
   },
   "outputs": [],
   "source": [
    "#Loading the processed data set into a pandas dataframe\n",
    "dataframe_entire = pd.read_csv('clean_data1.csv')\n",
    "\n",
    "#separating the set into training and testing sets \n",
    "growth_train,growth_dev = dataframe_entire[:10000],dataframe_entire[10000:12000]\n",
    "train_X = growth_train[['wf_outreach_flag_chan_ii','wf_outreach_flag_chan_ii','cust_outreach_aii','cust_outreach_ai','typeA_ct','cust_outreach_avi','wf_outreach_flag_chan_iv','wf_outreach_flag_chan_i']]\n",
    "test_X = growth_train['step_balance']\n",
    "train_Y = growth_dev[['wf_outreach_flag_chan_ii','wf_outreach_flag_chan_ii','cust_outreach_aii','cust_outreach_ai','typeA_ct','cust_outreach_avi','wf_outreach_flag_chan_iv','wf_outreach_flag_chan_i']]\n",
    "test_Y  = growth_dev['step_balance']"
   ]
  },
  {
   "cell_type": "markdown",
   "metadata": {},
   "source": [
    "###### Running the model for the entire training set "
   ]
  },
  {
   "cell_type": "code",
   "execution_count": 8,
   "metadata": {
    "collapsed": false
   },
   "outputs": [
    {
     "name": "stdout",
     "output_type": "stream",
     "text": [
      "The accuracy of the model is: 0.558\n"
     ]
    }
   ],
   "source": [
    "forest = RandomForestClassifier(n_estimators = 100)\n",
    "forest = forest.fit(train_X,test_X)\n",
    "print (\"The accuracy of the model is: \" + str(forest.score(train_Y, test_Y)))"
   ]
  },
  {
   "cell_type": "markdown",
   "metadata": {},
   "source": [
    "### Working with the \"customer_demographic_ai = 1, customer_demographic_aii = 1\" sub-dataset"
   ]
  },
  {
   "cell_type": "code",
   "execution_count": null,
   "metadata": {
    "collapsed": false
   },
   "outputs": [],
   "source": [
    "dataframe = pd.read_csv('1_1.csv')"
   ]
  },
  {
   "cell_type": "markdown",
   "metadata": {},
   "source": [
    "###### Locating the features most correlated with the output for this sub-dataset, using the Pearson Coefficient method"
   ]
  },
  {
   "cell_type": "code",
   "execution_count": null,
   "metadata": {
    "collapsed": false
   },
   "outputs": [],
   "source": [
    "for i in dataframe.columns:\n",
    "    corr = pearsonr(dataframe[i], dataframe['step_balance'])\n",
    "    print(\"Correlation\" + \" \" + i + \"=\" + str(corr))"
   ]
  },
  {
   "cell_type": "markdown",
   "metadata": {},
   "source": [
    "#### Once we locate the top 5-10 features, we utilize training algorithms like Random Forest, Recurrent Neural Networks and SVM to train a model with the said features. We found that Random Forest gives us the best prediction accuracies, and thus focussed on this method."
   ]
  },
  {
   "cell_type": "code",
   "execution_count": null,
   "metadata": {
    "collapsed": false
   },
   "outputs": [],
   "source": [
    "#We use a training set and a test set. We also utilised different k-fold cross-validation techniques to reduce biases.\n",
    "growth_train = dataframe[:7000]\n",
    "growth_dev = dataframe[7000:7715]\n"
   ]
  },
  {
   "cell_type": "code",
   "execution_count": null,
   "metadata": {
    "collapsed": false
   },
   "outputs": [],
   "source": [
    "train_X = growth_train[['typeA_ct','typeA_bal_cat','wf_outreach_flag_chan_ii','typeF_flag','typeB_bal_cat','typeB_ct','cust_outreach_avi','wf_outreach_flag_chan_i','cust_outreach_ai','cust_outreach_av','cust_outreach_aii','wf_outreach_flag_chan_iv']]"
   ]
  },
  {
   "cell_type": "code",
   "execution_count": null,
   "metadata": {
    "collapsed": false
   },
   "outputs": [],
   "source": [
    "test_X = growth_train['step_balance']"
   ]
  },
  {
   "cell_type": "code",
   "execution_count": null,
   "metadata": {
    "collapsed": true
   },
   "outputs": [],
   "source": [
    "train_Y = growth_dev[['typeA_ct','typeA_bal_cat','wf_outreach_flag_chan_ii','typeF_flag','typeB_bal_cat','typeB_ct','cust_outreach_avi','wf_outreach_flag_chan_i','cust_outreach_ai','cust_outreach_av','cust_outreach_aii','wf_outreach_flag_chan_iv']]\n",
    "test_Y  = growth_dev['step_balance']"
   ]
  },
  {
   "cell_type": "markdown",
   "metadata": {},
   "source": [
    "#### Implementation of Random Forest"
   ]
  },
  {
   "cell_type": "code",
   "execution_count": null,
   "metadata": {
    "collapsed": false
   },
   "outputs": [],
   "source": [
    "forest = RandomForestClassifier(n_estimators = 100)\n",
    "\n",
    "# Fit the training data to the Survived labels and create the decision trees\n",
    "forest = forest.fit(train_X,test_X)\n",
    "\n",
    "# Take the same decision trees and run it on the test data\n",
    "output = forest.predict(train_Y)\n",
    "forest.score(list(output), list(test_Y))\n",
    "\n",
    "    "
   ]
  },
  {
   "cell_type": "markdown",
   "metadata": {},
   "source": [
    "###### Implementation of SVM technique using rbf kernel as well as linear kernel"
   ]
  },
  {
   "cell_type": "code",
   "execution_count": null,
   "metadata": {
    "collapsed": false
   },
   "outputs": [],
   "source": [
    "clf = SVC(kernel='rbf')\n",
    "clf.fit(train_X,test_X)\n",
    "clf.score(train_Y, test_Y)"
   ]
  },
  {
   "cell_type": "code",
   "execution_count": null,
   "metadata": {
    "collapsed": false
   },
   "outputs": [],
   "source": [
    "clf1 = SVC(kernel='linear')\n",
    "clf1.fit(train_X,test_X)\n",
    "clf1.score(train_Y, test_Y)"
   ]
  }
 ],
 "metadata": {
  "anaconda-cloud": {},
  "kernelspec": {
   "display_name": "Python [Root]",
   "language": "python",
   "name": "Python [Root]"
  },
  "language_info": {
   "codemirror_mode": {
    "name": "ipython",
    "version": 3
   },
   "file_extension": ".py",
   "mimetype": "text/x-python",
   "name": "python",
   "nbconvert_exporter": "python",
   "pygments_lexer": "ipython3",
   "version": "3.5.2"
  }
 },
 "nbformat": 4,
 "nbformat_minor": 0
}
